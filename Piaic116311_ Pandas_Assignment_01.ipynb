{
 "cells": [
  {
   "cell_type": "markdown",
   "metadata": {
    "id": "PLtIFJw06xOZ"
   },
   "source": []
  },
  {
   "cell_type": "markdown",
   "metadata": {
    "id": "H0g9dQ0U2s4E"
   },
   "source": [
    "\n",
    "#Loading fashion_mnist dataset with Keras"
   ]
  },
  {
   "cell_type": "code",
   "execution_count": 21,
   "metadata": {
    "id": "lpHnWvy12qyb"
   },
   "outputs": [],
   "source": [
    "from tensorflow.keras.datasets import fashion_mnist\n",
    "(train_images, train_labels), (test_images, test_labels)=fashion_mnist.load_data()"
   ]
  },
  {
   "cell_type": "code",
   "execution_count": 22,
   "metadata": {
    "colab": {
     "base_uri": "https://localhost:8080/"
    },
    "id": "WrmhlO4126Uf",
    "outputId": "933d6a60-f0ad-478a-941f-623e8f3b086d"
   },
   "outputs": [
    {
     "name": "stdout",
     "output_type": "stream",
     "text": [
      "60000\n",
      "60000\n"
     ]
    }
   ],
   "source": [
    "print(len(train_images))\n",
    "print(len(train_labels))"
   ]
  },
  {
   "cell_type": "code",
   "execution_count": 23,
   "metadata": {
    "colab": {
     "base_uri": "https://localhost:8080/"
    },
    "id": "PeWNndKu3jEU",
    "outputId": "0780b563-6582-438f-b46d-c36be1c728d1"
   },
   "outputs": [
    {
     "name": "stdout",
     "output_type": "stream",
     "text": [
      "10000\n",
      "10000\n"
     ]
    }
   ],
   "source": [
    "print(len(test_images))\n",
    "print(len(test_labels))"
   ]
  },
  {
   "cell_type": "code",
   "execution_count": 24,
   "metadata": {
    "colab": {
     "base_uri": "https://localhost:8080/"
    },
    "id": "M1cgYAV43qc9",
    "outputId": "6666565b-4d8a-401a-d3b5-d3c749752b8a"
   },
   "outputs": [
    {
     "name": "stdout",
     "output_type": "stream",
     "text": [
      "(60000, 28, 28)\n",
      "(10000, 28, 28)\n"
     ]
    }
   ],
   "source": [
    "print(train_images.shape)\n",
    "print(test_images.shape)\n"
   ]
  },
  {
   "cell_type": "code",
   "execution_count": 5,
   "metadata": {
    "colab": {
     "base_uri": "https://localhost:8080/"
    },
    "id": "7LY8EIw_3xcA",
    "outputId": "ebe54ed2-e24c-4ee4-d71b-a00356eaa633"
   },
   "outputs": [
    {
     "name": "stdout",
     "output_type": "stream",
     "text": [
      "(60000,)\n",
      "(10000,)\n"
     ]
    }
   ],
   "source": [
    "print(train_labels.shape)\n",
    "print(test_labels.shape)"
   ]
  },
  {
   "cell_type": "code",
   "execution_count": 25,
   "metadata": {
    "id": "fEag6MTp32m5"
   },
   "outputs": [],
   "source": [
    "class_names = ['T-shirt/top', 'Trouser', 'Pullover', 'Dress', 'Coat',\n",
    "               'Sandal', 'Shirt', 'Sneaker', 'Bag', 'Ankle boot']"
   ]
  },
  {
   "cell_type": "code",
   "execution_count": 27,
   "metadata": {
    "colab": {
     "base_uri": "https://localhost:8080/",
     "height": 282
    },
    "id": "dE_7ZXEx34bz",
    "outputId": "ed0fcc2a-9ff2-4e75-e33b-4386cfaf56a6"
   },
   "outputs": [
    {
     "name": "stdout",
     "output_type": "stream",
     "text": [
      "Class Label: Dress\n"
     ]
    },
    {
     "data": {
      "image/png": "[encoded data removed]",
      "text/plain": [
       "<Figure size 432x288 with 1 Axes>"
      ]
     },
     "metadata": {
      "needs_background": "light",
      "tags": []
     },
     "output_type": "display_data"
    }
   ],
   "source": [
    "import matplotlib.pyplot as plt\n",
    "num = 50\n",
    "item=train_labels[num]\n",
    "print(\"Class Label:\", class_names[item] )\n",
    "plt.imshow(train_images[num], cmap=plt.cm.binary)\n",
    "plt.show()"
   ]
  },
  {
   "cell_type": "code",
   "execution_count": 28,
   "metadata": {
    "colab": {
     "base_uri": "https://localhost:8080/"
    },
    "id": "hVvpcg0L4G_N",
    "outputId": "fc340feb-fd73-432c-b95c-52625b28c9cb"
   },
   "outputs": [
    {
     "name": "stdout",
     "output_type": "stream",
     "text": [
      "[9 0 0 ... 3 0 5]\n",
      "[0 1 2 3 4 5 6 7 8 9]\n"
     ]
    }
   ],
   "source": [
    "import numpy as np\n",
    "print(train_labels)\n",
    "print(np.unique(train_labels))"
   ]
  },
  {
   "cell_type": "code",
   "execution_count": 29,
   "metadata": {
    "colab": {
     "base_uri": "https://localhost:8080/"
    },
    "id": "eZDggIl14KCG",
    "outputId": "fc89e4af-5b1d-469a-d129-dccd03255361"
   },
   "outputs": [
    {
     "name": "stdout",
     "output_type": "stream",
     "text": [
      "[9 2 1 ... 8 1 5]\n",
      "[0 1 2 3 4 5 6 7 8 9]\n"
     ]
    }
   ],
   "source": [
    "import numpy as np\n",
    "print(test_labels)\n",
    "print(np.unique(test_labels))"
   ]
  },
  {
   "cell_type": "code",
   "execution_count": 30,
   "metadata": {
    "id": "7k80RRgn4Yij"
   },
   "outputs": [],
   "source": [
    "from tensorflow.keras import models\n",
    "from tensorflow.keras import layers\n",
    "\n",
    "network = models.Sequential()\n",
    "\n",
    "network.add(layers.Dense(512, activation='relu', input_shape=(28*28,)))\n",
    "network.add(layers.Dense(10, activation=\"softmax\"))"
   ]
  },
  {
   "cell_type": "code",
   "execution_count": 32,
   "metadata": {
    "id": "q6BH3yKA4jy5"
   },
   "outputs": [],
   "source": [
    "network.compile(optimizer=\"rmsprop\", loss=\"categorical_crossentropy\", metrics=[\"accuracy\"])"
   ]
  },
  {
   "cell_type": "markdown",
   "metadata": {
    "id": "JgH3AIS74n7_"
   },
   "source": [
    "# Preparing The Image Data"
   ]
  },
  {
   "cell_type": "code",
   "execution_count": 33,
   "metadata": {
    "id": "4q91ufXz4sTk"
   },
   "outputs": [],
   "source": [
    "train_images=train_images.reshape((60000, 28*28))\n",
    "train_images=train_images.astype(\"float32\")/255\n",
    "\n",
    "test_images=test_images.reshape((10000, 28*28))\n",
    "test_images=test_images.astype(\"float32\")/255"
   ]
  },
  {
   "cell_type": "code",
   "execution_count": 34,
   "metadata": {
    "colab": {
     "base_uri": "https://localhost:8080/"
    },
    "id": "n5SVpXBr41-q",
    "outputId": "0d6aa93a-8071-42c1-f87a-24f1a3afdb45"
   },
   "outputs": [
    {
     "data": {
      "text/plain": [
       "9"
      ]
     },
     "execution_count": 34,
     "metadata": {
      "tags": []
     },
     "output_type": "execute_result"
    }
   ],
   "source": [
    "train_labels[0]"
   ]
  },
  {
   "cell_type": "markdown",
   "metadata": {
    "id": "LrUcIz835JmH"
   },
   "source": [
    "# One Hot Encode"
   ]
  },
  {
   "cell_type": "code",
   "execution_count": 35,
   "metadata": {
    "id": "8y_WKsos48Ut"
   },
   "outputs": [],
   "source": [
    "from tensorflow.keras.utils import to_categorical\n",
    "train_labels = to_categorical(train_labels)\n",
    "test_labels = to_categorical(test_labels)"
   ]
  },
  {
   "cell_type": "markdown",
   "metadata": {
    "id": "BtrYA27o5c9J"
   },
   "source": [
    "# Training"
   ]
  },
  {
   "cell_type": "code",
   "execution_count": 36,
   "metadata": {
    "colab": {
     "base_uri": "https://localhost:8080/"
    },
    "id": "OjdnABB55cn6",
    "outputId": "e3ec5e34-fc6d-498e-bc6b-011f9e14f990"
   },
   "outputs": [
    {
     "name": "stdout",
     "output_type": "stream",
     "text": [
      "Epoch 1/15\n",
      "469/469 [==============================] - 5s 9ms/step - loss: 1.6636 - accuracy: 0.5588\n",
      "Epoch 2/15\n",
      "469/469 [==============================] - 4s 9ms/step - loss: 0.7238 - accuracy: 0.7459\n",
      "Epoch 3/15\n",
      "469/469 [==============================] - 4s 9ms/step - loss: 0.6056 - accuracy: 0.7821\n",
      "Epoch 4/15\n",
      "469/469 [==============================] - 4s 9ms/step - loss: 0.5399 - accuracy: 0.8061\n",
      "Epoch 5/15\n",
      "469/469 [==============================] - 4s 9ms/step - loss: 0.5126 - accuracy: 0.8184\n",
      "Epoch 6/15\n",
      "469/469 [==============================] - 4s 9ms/step - loss: 0.4822 - accuracy: 0.8304\n",
      "Epoch 7/15\n",
      "469/469 [==============================] - 4s 9ms/step - loss: 0.4657 - accuracy: 0.8364\n",
      "Epoch 8/15\n",
      "469/469 [==============================] - 4s 9ms/step - loss: 0.4557 - accuracy: 0.8391\n",
      "Epoch 9/15\n",
      "469/469 [==============================] - 4s 9ms/step - loss: 0.4401 - accuracy: 0.8458\n",
      "Epoch 10/15\n",
      "469/469 [==============================] - 4s 9ms/step - loss: 0.4304 - accuracy: 0.8471\n",
      "Epoch 11/15\n",
      "469/469 [==============================] - 4s 9ms/step - loss: 0.4268 - accuracy: 0.8490\n",
      "Epoch 12/15\n",
      "469/469 [==============================] - 4s 9ms/step - loss: 0.4169 - accuracy: 0.8546\n",
      "Epoch 13/15\n",
      "469/469 [==============================] - 4s 9ms/step - loss: 0.4076 - accuracy: 0.8549\n",
      "Epoch 14/15\n",
      "469/469 [==============================] - 4s 9ms/step - loss: 0.4020 - accuracy: 0.8580\n",
      "Epoch 15/15\n",
      "469/469 [==============================] - 4s 9ms/step - loss: 0.3947 - accuracy: 0.8613\n"
     ]
    },
    {
     "data": {
      "text/plain": [
       "<tensorflow.python.keras.callbacks.History at 0x7fad9a6d1470>"
      ]
     },
     "execution_count": 36,
     "metadata": {
      "tags": []
     },
     "output_type": "execute_result"
    }
   ],
   "source": [
    "network.fit(train_images, train_labels, epochs=15, batch_size=128)"
   ]
  },
  {
   "cell_type": "markdown",
   "metadata": {
    "id": "H5EiFQxW5wUk"
   },
   "source": [
    "# Test"
   ]
  },
  {
   "cell_type": "code",
   "execution_count": 37,
   "metadata": {
    "colab": {
     "base_uri": "https://localhost:8080/"
    },
    "id": "j43mWLz_5YKr",
    "outputId": "8b21da71-dfe5-4a71-f000-26134d69bb76",
    "scrolled": true
   },
   "outputs": [
    {
     "name": "stdout",
     "output_type": "stream",
     "text": [
      "313/313 [==============================] - 1s 2ms/step - loss: 0.4280 - accuracy: 0.8473\n",
      "Test Loss:  0.42797303199768066\n",
      "Test Accuracy: 0.8472999930381775\n"
     ]
    }
   ],
   "source": [
    "test_loss, test_acc = network.evaluate(test_images, test_labels)\n",
    "print(\"Test Loss: \", test_loss)\n",
    "print(\"Test Accuracy:\", test_acc )"
   ]
  },
  {
   "cell_type": "markdown",
   "metadata": {
    "id": "X3wNmcm56shr"
   },
   "source": []
  }
 ],
 "metadata": {
  "colab": {
   "name": "MNIST_Assignemnt.ipynb",
   "provenance": []
  },
  "kernelspec": {
   "display_name": "Python 3",
   "language": "python",
   "name": "python3"
  },
  "language_info": {
   "codemirror_mode": {
    "name": "ipython",
    "version": 3
   },
   "file_extension": ".py",
   "mimetype": "text/x-python",
   "name": "python",
   "nbconvert_exporter": "python",
   "pygments_lexer": "ipython3",
   "version": "3.7.6"
  }
 },
 "nbformat": 4,
 "nbformat_minor": 1
}
